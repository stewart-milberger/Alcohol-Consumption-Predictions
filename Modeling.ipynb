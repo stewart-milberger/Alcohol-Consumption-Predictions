{
 "cells": [
  {
   "cell_type": "code",
   "execution_count": 35,
   "metadata": {},
   "outputs": [],
   "source": [
    "import numpy as np\n",
    "from scipy import stats\n",
    "import pandas as pd\n",
    "import matplotlib.pyplot as plt\n",
    "import matplotlib.pyplot as plt\n",
    "from sklearn.utils import resample\n",
    "import seaborn as sns\n",
    "import matplotlib.image as mpimg \n",
    "\n",
    "from sklearn.linear_model import LogisticRegression\n",
    "from sklearn.ensemble import RandomForestClassifier, GradientBoostingClassifier, AdaBoostClassifier\n",
    "from sklearn.neighbors import KNeighborsClassifier\n",
    "from sklearn.svm import SVC, LinearSVC, NuSVC\n",
    "from sklearn.naive_bayes import GaussianNB\n",
    "from sklearn.discriminant_analysis import LinearDiscriminantAnalysis\n",
    "from sklearn.discriminant_analysis import QuadraticDiscriminantAnalysis\n",
    "\n",
    "from sklearn.model_selection import train_test_split, GridSearchCV, StratifiedKFold, KFold\n",
    "from sklearn.metrics import plot_confusion_matrix, recall_score\n",
    "from sklearn.metrics import accuracy_score, log_loss, precision_score, confusion_matrix\n",
    "from sklearn.preprocessing import OneHotEncoder\n",
    "import copy\n",
    "\n",
    "%matplotlib inline"
   ]
  },
  {
   "cell_type": "code",
   "execution_count": 2,
   "metadata": {},
   "outputs": [],
   "source": [
    "# Quick import of cleaned/imputed data\n",
    "complete_df = pd.read_csv('data/RF_imputed_df.csv')"
   ]
  },
  {
   "cell_type": "code",
   "execution_count": 3,
   "metadata": {},
   "outputs": [],
   "source": [
    "# One hot encode the specified columns, remove the original columns, append the \n",
    "# encoded columns, and return df\n",
    "\n",
    "def create_ohe_df(df, col_list):\n",
    "    df2 = copy.copy(df)\n",
    "    \n",
    "    temp_df = df[col_list] \n",
    "    df2 = df2.drop(columns=col_list)\n",
    "    \n",
    "    enc = OneHotEncoder(handle_unknown='ignore')\n",
    "    enc.fit(temp_df)\n",
    "    one_hot_df = enc.transform(temp_df)\n",
    "    \n",
    "    return pd.concat([df2, pd.DataFrame(one_hot_df.todense())], axis=1)\n"
   ]
  },
  {
   "cell_type": "code",
   "execution_count": 4,
   "metadata": {},
   "outputs": [],
   "source": [
    "OHE_df = create_ohe_df(complete_df, ['Ethnicity', 'Gender', 'Been_Arrested', \n",
    "                                         'State', 'Work_Situation'])"
   ]
  },
  {
   "cell_type": "code",
   "execution_count": null,
   "metadata": {},
   "outputs": [],
   "source": [
    "s1_df.groupby('Religious_Life')['Religious_Life'].count()"
   ]
  },
  {
   "cell_type": "code",
   "execution_count": null,
   "metadata": {},
   "outputs": [],
   "source": [
    "s1_df = create_ohe_df(redo_df, ['Ethnicity', 'Gender', 'Been_Arrested', \n",
    "                                         'State', 'Work_Situation'])"
   ]
  },
  {
   "cell_type": "code",
   "execution_count": null,
   "metadata": {},
   "outputs": [],
   "source": [
    "s1_df = s1_df.drop(columns=['Dataset', 'Current_Drinker'])"
   ]
  },
  {
   "cell_type": "code",
   "execution_count": null,
   "metadata": {},
   "outputs": [],
   "source": [
    "RLife_mask = s1_df['Religious_Life'].between(1,4)\n",
    "s2_RLife = s1_df[RLife_mask]\n",
    "RLife_missing = s1_df[~RLife_mask].drop(columns=['Religious_Life'])\n",
    "\n",
    "Alc_mask = s1_df['Importance_Alcoholic'].between(1,4)\n",
    "s2_Alc = s1_df[Alc_mask]\n",
    "Alc_missing = s1_df[~Alc_mask].drop(columns=['Importance_Alcoholic'])\n",
    "\n",
    "FF_mask = s1_df['Importance_Friends_Family'].between(1,4)\n",
    "s2_FF = s1_df[FF_mask]\n",
    "FF_missing = s1_df[~FF_mask].drop(columns=['Importance_Friends_Family'])\n",
    "\n",
    "Rel_mask = s1_df['Importance_Religion'].between(1,4)\n",
    "s2_RL = s1_df[Rel_mask]\n",
    "Rel_missing = s1_df[~Rel_mask].drop(columns=['Importance_Religion'])"
   ]
  },
  {
   "cell_type": "code",
   "execution_count": null,
   "metadata": {},
   "outputs": [],
   "source": [
    "X1_train, X1_test, y1_train, y1_test= convert_split(s2_RL, 'Importance_Religion')\n",
    "X2_train, X2_test, y2_train, y2_test= convert_split(s2_Alc, 'Importance_Alcoholic')\n",
    "X3_train, X3_test, y3_train, y3_test= convert_split(s2_FF, 'Importance_Friends_Family')\n",
    "X4_train, X4_test, y4_train, y4_test= convert_split(s2_RLife, 'Religious_Life')"
   ]
  },
  {
   "cell_type": "code",
   "execution_count": null,
   "metadata": {},
   "outputs": [],
   "source": [
    "I_Rel_model = create_RF(X1_train, X1_test, y1_train, y1_test,\n",
    "                        class_weight={1:1,2:2,3:2,4:1})"
   ]
  },
  {
   "cell_type": "code",
   "execution_count": null,
   "metadata": {},
   "outputs": [],
   "source": [
    "I_Alc_model = create_RF(X2_train, X2_test, y2_train, y2_test,\n",
    "                       class_weight={1:1.5,2:2,3:2,4:1})"
   ]
  },
  {
   "cell_type": "code",
   "execution_count": null,
   "metadata": {},
   "outputs": [],
   "source": [
    "I_FF_model = create_RF(X3_train, X3_test, y3_train, y3_test, \n",
    "                       class_weight={1:1,2:1.5,3:1.5,4:1})"
   ]
  },
  {
   "cell_type": "code",
   "execution_count": null,
   "metadata": {},
   "outputs": [],
   "source": [
    "I_RLife_model = create_RF(X4_train, X4_test, y4_train, y4_test, \n",
    "                          class_weight={1:.2,2:.8,3:2.2,4:3.5})"
   ]
  },
  {
   "cell_type": "code",
   "execution_count": null,
   "metadata": {},
   "outputs": [],
   "source": [
    "Pred_Alc = I_Alc_model.predict(Alc_missing)\n",
    "Pred_FF = I_FF_model.predict(FF_missing)\n",
    "Pred_ReL = I_Rel_model.predict(Rel_missing)\n",
    "Pred_RLife = I_RLife_model.predict(RLife_missing)"
   ]
  },
  {
   "cell_type": "code",
   "execution_count": null,
   "metadata": {},
   "outputs": [],
   "source": [
    "Rel_missing['Importance_Religion'] = Pred_ReL\n",
    "FF_missing['Importance_Friends_Family'] = Pred_FF\n",
    "Alc_missing['Importance_Alcoholic'] = Pred_Alc\n",
    "RLife_missing['Religious_Life'] = Pred_RLife"
   ]
  },
  {
   "cell_type": "code",
   "execution_count": null,
   "metadata": {},
   "outputs": [],
   "source": [
    "RL_final = pd.concat([s2_RL, Rel_missing], axis=0)\n",
    "RLife_final = pd.concat([s2_RLife, RLife_missing], axis=0)\n",
    "FF_final = pd.concat([s2_FF, FF_missing], axis=0)\n",
    "Alc_final = pd.concat([s2_Alc, Alc_missing], axis=0)"
   ]
  },
  {
   "cell_type": "code",
   "execution_count": null,
   "metadata": {},
   "outputs": [],
   "source": [
    "RF_imputed_df = redo_df.drop(columns = ['Importance_Alcoholic',\n",
    "                                        'Importance_Religion',\n",
    "                                        'Importance_Friends_Family', \n",
    "                                        'Religious_Life'])\n",
    "RF_imputed_df['Importance_Alcoholic'] = Alc_final['Importance_Alcoholic']\n",
    "RF_imputed_df['Importance_Religion'] = RL_final['Importance_Religion']\n",
    "RF_imputed_df['Importance_Friends_Family'] = FF_final['Importance_Friends_Family']\n",
    "RF_imputed_df['Religious_Life'] = RLife_final['Religious_Life']"
   ]
  },
  {
   "cell_type": "code",
   "execution_count": null,
   "metadata": {},
   "outputs": [],
   "source": [
    "RF_imputed_df.to_csv('data/RF_imputed_df.csv')"
   ]
  },
  {
   "cell_type": "code",
   "execution_count": null,
   "metadata": {},
   "outputs": [],
   "source": [
    "def create_RF(X_train, X_test, y_train, y_test, class_weight={1:1, 2:1, 3:1, 4:1}):\n",
    "    RF_model = RandomForestClassifier(max_depth=10, n_estimators=600, \n",
    "                                      min_samples_split=6, min_samples_leaf=4,\n",
    "                                     class_weight=class_weight)\n",
    "    RF_model.fit(X_train, y_train)\n",
    "\n",
    "    #RF_train_predict = RF_model.predict(X_train)\n",
    "    #RF_train_proba = RF_model.predict_proba(X_train)\n",
    "    #RF_test_predict = RF_model.predict(X_test)\n",
    "\n",
    "    #print(f'Acc: {accuracy_score(y_test, RF_test_predict)}')\n",
    "    #print(f'Loss: {log_loss(y_train, RF_train_proba)}')\n",
    "    #RF_conf = plot_confusion_matrix(RF_model, X_test ,y_test ,normalize='true',cmap='YlOrRd')\n",
    "    #RF_conf.ax_.grid(False)\n",
    "    #RF_conf.ax_.set_title('RF');\n",
    "    \n",
    "    return RF_model"
   ]
  },
  {
   "cell_type": "code",
   "execution_count": null,
   "metadata": {},
   "outputs": [],
   "source": []
  },
  {
   "cell_type": "code",
   "execution_count": 10,
   "metadata": {},
   "outputs": [],
   "source": [
    "cluster_df = copy.copy(OHE_df.drop(columns=['Dataset', 'Current_Drinker', 'Unnamed: 0']))"
   ]
  },
  {
   "cell_type": "code",
   "execution_count": 11,
   "metadata": {},
   "outputs": [],
   "source": [
    "# add target feature according to Average Drinking feature\n",
    "\n",
    "cluster_df['target'] = cluster_df['Average_Drinking'].map(lambda x: 0 if x==11\n",
    "                                                                      else 1 if x==7 or x==8\n",
    "                                                                      else 2 if x<=5\n",
    "                                                                         else None)\n",
    "\n",
    "# filter df by values in Average Drinking which belong to a label\n",
    "train_df = cluster_df[cluster_df['target'].notnull()]\n",
    "train_df = train_df.drop(columns=['Beer_Frequency', 'Liquor_Frequency', 'Wine_Frequency', \n",
    "                                  'Average_Drinking']);"
   ]
  },
  {
   "cell_type": "code",
   "execution_count": 12,
   "metadata": {},
   "outputs": [],
   "source": [
    "# Function to balance all labels equally depending on the size of the minority.\n",
    "# Percent argument determines the sample size by increasing the minority size by the \n",
    "# specified percentage. All labels under this threshold are oversampled, and all \n",
    "# labels over the threshold are undersampled.\n",
    "\n",
    "def balance_classes(train_df, percent):\n",
    "    \n",
    "    zeros = train_df[train_df['target'] == 0]\n",
    "    ones = train_df[train_df['target'] == 1]\n",
    "    twos = train_df[train_df['target'] == 2]\n",
    "\n",
    "    # Make list of labels which have more than 0 data points\n",
    "    label_list = [ones, twos, zeros]\n",
    "    non_zero_labels = []\n",
    "    for label in label_list:\n",
    "        if label.shape[0] != 0:\n",
    "            non_zero_labels.append(label)\n",
    "        \n",
    "    # get list of sized of labels to find the minority\n",
    "    labels = []\n",
    "    for label in non_zero_labels:\n",
    "        labels.append(label.shape[0])\n",
    "    \n",
    "    minority = np.min(labels)\n",
    "    total_rows = twos.shape[0]+ones.shape[0]+zeros.shape[0]\n",
    "    \n",
    "    # Calculate the target number of data points for each class\n",
    "    target_num = int(total_rows * ((minority/total_rows) + (minority/total_rows) * percent)) \n",
    "    \n",
    "    # resample all labels accoprding to the target sample size\n",
    "    resampled_zeros = resample(zeros, n_samples=target_num, stratify=zeros)\n",
    "    resampled_ones = resample(ones, n_samples=target_num, stratify=ones)\n",
    "    resampled_twos = resample(twos, n_samples=target_num, stratify=twos)\n",
    "    \n",
    "    # create new dataframe containing all resampled labels\n",
    "    train_df = pd.concat([resampled_zeros, resampled_twos, resampled_ones],  \n",
    "                         ignore_index=True)\n",
    "    \n",
    "    \n",
    "    return train_df "
   ]
  },
  {
   "cell_type": "code",
   "execution_count": 13,
   "metadata": {},
   "outputs": [],
   "source": [
    "train_df = balance_classes(train_df, .35)"
   ]
  },
  {
   "cell_type": "code",
   "execution_count": 14,
   "metadata": {},
   "outputs": [],
   "source": [
    "# Create X and y for train_test_split\n",
    "\n",
    "def convert_split(df, target_col):    \n",
    "\n",
    "    X = df.drop(columns=target_col)\n",
    "    y = df[target_col]\n",
    "    \n",
    "    X_train, X_test, y_train, y_test = train_test_split(X, y, stratify=y)\n",
    "    return X_train, X_test, y_train, y_test"
   ]
  },
  {
   "cell_type": "code",
   "execution_count": 15,
   "metadata": {},
   "outputs": [],
   "source": [
    "X_train, X_test, y_train, y_test= convert_split(train_df, 'target')"
   ]
  },
  {
   "cell_type": "code",
   "execution_count": 22,
   "metadata": {},
   "outputs": [],
   "source": [
    "# Create GB model, print the accuracy,log loss and confusion matrix\n",
    "\n",
    "def create_GB_model(rate):\n",
    "    #GB_model = GradientBoostingClassifier(learning_rate=0.03, max_depth=10, n_estimators=600, \n",
    "    #                                  min_samples_split=8, min_samples_leaf=2)\n",
    "    GB_model = GradientBoostingClassifier(learning_rate=rate)\n",
    "    GB_model.fit(X_train, y_train)\n",
    "\n",
    "    GB_train_predict = GB_model.predict(X_train)\n",
    "    GB_train_proba = GB_model.predict_proba(X_train)\n",
    "    GB_test_predict = GB_model.predict(X_test)\n",
    "    \n",
    "    print(f'Acc: {accuracy_score(y_test, GB_test_predict)}')\n",
    "    print(f'Loss: {log_loss(y_train, GB_train_proba)}')\n",
    "    '''\n",
    "    GB_conf = plot_confusion_matrix(GB_model, X_test ,y_test ,normalize='true', cmap=plt.cm.Blues)\n",
    "    GB_conf.ax_.grid(False)\n",
    "    GB_conf.ax_.set_title('GB Unbalanced Classes');\n",
    "    '''\n",
    "    \n",
    "    acc = accuracy_score(y_test, GB_test_predict)\n",
    "    loss = log_loss(y_train, GB_train_proba)\n",
    "    list1 = [acc,loss]\n",
    "    return list1"
   ]
  },
  {
   "cell_type": "code",
   "execution_count": null,
   "metadata": {},
   "outputs": [],
   "source": [
    "# Create RF model, print the accuracy,log loss and confusion matrix\n",
    "\n",
    "def create_RF_model(max_depth=10, n_estimators=600, min_samples_split=6, \n",
    "                    min_samples_leaf=4):\n",
    "    RF_model = RandomForestClassifier(max_depth = max_depth, \n",
    "                                      n_estimators = n_estimators, \n",
    "                                      min_samples_split = min_samples_split, \n",
    "                                      min_samples_leaf = min_samples_leaf,\n",
    "                                     warm_start=True)\n",
    "    RF_model.fit(X_train, y_train)\n",
    "\n",
    "    RF_train_predict = RF_model.predict(X_train)\n",
    "    RF_train_proba = RF_model.predict_proba(X_train)\n",
    "    RF_test_predict = RF_model.predict(X_test)\n",
    "\n",
    "    print(f'Acc: {accuracy_score(y_test, RF_test_predict)}')\n",
    "    print(f'Loss: {log_loss(y_train, RF_train_proba)}')\n",
    "    print(f'Max Depth: {max_depth}\\nn_esitmators: {n_estimators}\\nmin_saples_split: {min_samples_split}\\nmin_samples_leaf: {min_samples_leaf}')\n",
    "    '''\n",
    "    RF_conf = plot_confusion_matrix(RF_model, X_test ,y_test ,normalize='true',cmap=plt.cm.Blues)\n",
    "    RF_conf.ax_.grid(False)\n",
    "    RF_conf.ax_.set_title('RF Balanced Classes');\n",
    "    '''\n",
    "    return RF_model\n"
   ]
  },
  {
   "cell_type": "code",
   "execution_count": 82,
   "metadata": {},
   "outputs": [],
   "source": [
    "def create_LR_model():\n",
    "    LR_model = LogisticRegression(max_iter=1700)\n",
    "    \n",
    "    LR_model.fit(X_train, y_train)\n",
    "    \n",
    "    LR_train_predict = LR_model.predict(X_train)\n",
    "    LR_train_proba = LR_model.predict_proba(X_train)\n",
    "    LR_test_predict = LR_model.predict(X_test)\n",
    "    \n",
    "    print(f'Acc: {accuracy_score(y_test, LR_test_predict)}')\n",
    "    print(f'Loss: {log_loss(y_train, LR_train_proba)}')\n",
    "    '''\n",
    "    LR_conf = plot_confusion_matrix(LR_model, X_test ,y_test ,normalize='true',cmap=plt.cm.Blues)\n",
    "    LR_conf.ax_.grid(False)\n",
    "    LR_conf.ax_.set_title('LR Unbalanced Classes', fontsize=16)\n",
    "    LR_conf.ax_.set_xlabel('Predicted Label', fontsize=14)\n",
    "    LR_conf.ax_.set_ylabel('True Label',fontsize=14);\n",
    "    #LR_conf.ax_.text(fontsize=14)\n",
    "    '''\n",
    "    return LR_model"
   ]
  },
  {
   "cell_type": "code",
   "execution_count": 79,
   "metadata": {},
   "outputs": [],
   "source": [
    "sns.set(font_scale=1.2)"
   ]
  },
  {
   "cell_type": "code",
   "execution_count": 80,
   "metadata": {},
   "outputs": [],
   "source": [
    "def make_confusion_matrix(model):\n",
    "    \n",
    "    _ = plot_confusion_matrix(model, X_test ,y_test ,normalize='true', cmap='Blues')\n",
    "    _.ax_.grid(False)\n",
    "    _.ax_.set_title('Unbalanced Classes', fontsize=18)\n",
    "    _.ax_.set_xlabel('Predicted Label', fontsize=16)\n",
    "    _.ax_.set_ylabel('True Label',fontsize=16);\n",
    "    plt.tight_layout()\n",
    "    plt.savefig('Unbalanced_LR.png', format='png')\n",
    "    return plt"
   ]
  },
  {
   "cell_type": "code",
   "execution_count": 26,
   "metadata": {},
   "outputs": [],
   "source": [
    "rates = [.002,.005,.008,.1,.2,.3]\n",
    "rates2 = [.3,.4,.5,.6,.7,.8]"
   ]
  },
  {
   "cell_type": "code",
   "execution_count": 29,
   "metadata": {},
   "outputs": [],
   "source": [
    "rates = rates[::-1]"
   ]
  },
  {
   "cell_type": "code",
   "execution_count": null,
   "metadata": {},
   "outputs": [],
   "source": []
  },
  {
   "cell_type": "code",
   "execution_count": 31,
   "metadata": {},
   "outputs": [
    {
     "name": "stdout",
     "output_type": "stream",
     "text": [
      "Acc: 0.5882993197278912\n",
      "Loss: 0.758162395087851\n",
      "Acc: 0.5842176870748299\n",
      "Loss: 0.7869116144130452\n",
      "Acc: 0.5836734693877551\n",
      "Loss: 0.8224621643873535\n",
      "Acc: 0.5570068027210885\n",
      "Loss: 0.9682574723221162\n",
      "Acc: 0.5586394557823129\n",
      "Loss: 1.0000976963613355\n",
      "Acc: 0.5580952380952381\n",
      "Loss: 1.0489532687580316\n"
     ]
    },
    {
     "ename": "NameError",
     "evalue": "name 'test_list' is not defined",
     "output_type": "error",
     "traceback": [
      "\u001b[0;31m---------------------------------------------------------------------------\u001b[0m",
      "\u001b[0;31mNameError\u001b[0m                                 Traceback (most recent call last)",
      "\u001b[0;32m<ipython-input-31-c68752431248>\u001b[0m in \u001b[0;36m<module>\u001b[0;34m\u001b[0m\n\u001b[1;32m      2\u001b[0m     \u001b[0mlist1\u001b[0m\u001b[0;34m.\u001b[0m\u001b[0minsert\u001b[0m\u001b[0;34m(\u001b[0m\u001b[0;36m0\u001b[0m\u001b[0;34m,\u001b[0m \u001b[0mcreate_GB_model\u001b[0m\u001b[0;34m(\u001b[0m\u001b[0mrate\u001b[0m\u001b[0;34m)\u001b[0m\u001b[0;34m)\u001b[0m\u001b[0;34m\u001b[0m\u001b[0;34m\u001b[0m\u001b[0m\n\u001b[1;32m      3\u001b[0m \u001b[0;34m\u001b[0m\u001b[0m\n\u001b[0;32m----> 4\u001b[0;31m \u001b[0mtest_list\u001b[0m\u001b[0;34m.\u001b[0m\u001b[0minsert\u001b[0m\u001b[0;34m(\u001b[0m\u001b[0;36m0\u001b[0m\u001b[0;34m,\u001b[0m \u001b[0;36m6\u001b[0m\u001b[0;34m)\u001b[0m\u001b[0;34m\u001b[0m\u001b[0;34m\u001b[0m\u001b[0m\n\u001b[0m",
      "\u001b[0;31mNameError\u001b[0m: name 'test_list' is not defined"
     ]
    }
   ],
   "source": [
    "for rate in rates:\n",
    "    list1.insert(0, create_GB_model(rate))\n",
    "    \n",
    "test_list.insert(0, 6) "
   ]
  },
  {
   "cell_type": "code",
   "execution_count": 28,
   "metadata": {},
   "outputs": [
    {
     "data": {
      "text/plain": [
       "[[0.5880272108843537, 0.758162395087851],\n",
       " [0.5831292517006803, 0.7312577373450739],\n",
       " [0.582312925170068, 0.7076621426335763],\n",
       " [0.5831292517006803, 0.6914441662435024],\n",
       " [0.5853061224489796, 0.6733266246209988],\n",
       " [0.5798639455782313, 0.6608722912637015]]"
      ]
     },
     "execution_count": 28,
     "metadata": {},
     "output_type": "execute_result"
    }
   ],
   "source": [
    "list1"
   ]
  },
  {
   "cell_type": "code",
   "execution_count": null,
   "metadata": {},
   "outputs": [],
   "source": [
    "learning_rate_df = np.asarray(list1)"
   ]
  },
  {
   "cell_type": "code",
   "execution_count": null,
   "metadata": {},
   "outputs": [],
   "source": []
  },
  {
   "cell_type": "code",
   "execution_count": null,
   "metadata": {},
   "outputs": [],
   "source": []
  },
  {
   "cell_type": "code",
   "execution_count": null,
   "metadata": {},
   "outputs": [],
   "source": []
  },
  {
   "cell_type": "code",
   "execution_count": 83,
   "metadata": {},
   "outputs": [
    {
     "name": "stdout",
     "output_type": "stream",
     "text": [
      "Acc: 0.8049281314168378\n",
      "Loss: 0.42649252950201716\n"
     ]
    }
   ],
   "source": [
    "un_LR = create_LR_model()"
   ]
  },
  {
   "cell_type": "code",
   "execution_count": 55,
   "metadata": {},
   "outputs": [
    {
     "name": "stdout",
     "output_type": "stream",
     "text": [
      "Acc: 0.5882993197278912\n",
      "Loss: 0.8200501558401401\n"
     ]
    }
   ],
   "source": [
    "oob_GB3 = create_GB_model()"
   ]
  },
  {
   "cell_type": "code",
   "execution_count": 72,
   "metadata": {},
   "outputs": [
    {
     "data": {
      "text/plain": [
       "<module 'matplotlib.pyplot' from '/media/illuminator/Main/anaconda3/lib/python3.7/site-packages/matplotlib/pyplot.py'>"
      ]
     },
     "execution_count": 72,
     "metadata": {},
     "output_type": "execute_result"
    },
    {
     "data": {
      "image/png": "[encoded data removed]",
      "text/plain": [
       "<Figure size 432x288 with 2 Axes>"
      ]
     },
     "metadata": {},
     "output_type": "display_data"
    }
   ],
   "source": [
    "make_confusion_matrix(oob_GB3)"
   ]
  },
  {
   "cell_type": "code",
   "execution_count": 69,
   "metadata": {},
   "outputs": [
    {
     "name": "stdout",
     "output_type": "stream",
     "text": [
      "Acc: 0.6247619047619047\n",
      "Loss: 0.16114837437419846\n"
     ]
    }
   ],
   "source": [
    "GB3 = create_GB_model()"
   ]
  },
  {
   "cell_type": "code",
   "execution_count": 73,
   "metadata": {},
   "outputs": [
    {
     "data": {
      "text/plain": [
       "<module 'matplotlib.pyplot' from '/media/illuminator/Main/anaconda3/lib/python3.7/site-packages/matplotlib/pyplot.py'>"
      ]
     },
     "execution_count": 73,
     "metadata": {},
     "output_type": "execute_result"
    },
    {
     "data": {
      "image/png": "[encoded data removed]",
      "text/plain": [
       "<Figure size 432x288 with 2 Axes>"
      ]
     },
     "metadata": {},
     "output_type": "display_data"
    }
   ],
   "source": [
    "make_confusion_matrix(GB3)"
   ]
  },
  {
   "cell_type": "code",
   "execution_count": null,
   "metadata": {},
   "outputs": [],
   "source": []
  },
  {
   "cell_type": "code",
   "execution_count": null,
   "metadata": {},
   "outputs": [],
   "source": []
  },
  {
   "cell_type": "code",
   "execution_count": null,
   "metadata": {},
   "outputs": [],
   "source": []
  },
  {
   "cell_type": "code",
   "execution_count": null,
   "metadata": {},
   "outputs": [],
   "source": [
    "pred_proba_df = pd.DataFrame(RF_model.predict_proba(X_test))\n",
    "#threshold_list = [0.05,0.1,0.15,0.2,0.25,0.3,0.35,0.4,0.45,0.5,0.55,0.6,0.65,.7,.75,.8,.85,.9,.95,.99]\n",
    "threshold_list = [0.5,.51,.52,.53,.54,.55]\n",
    "for i in threshold_list:\n",
    "    print ('\\n******** For i = {} ******'.format(i))\n",
    "    Y_test_pred = pred_proba_df.applymap(lambda x: 1 if x>i else 0)\n",
    "    test_accuracy = accuracy_score(y_test.as_matrix().reshape(y_test.as_matrix().size,1),\n",
    "                                           Y_test_pred.iloc[:,1].as_matrix().reshape(Y_test_pred.iloc[:,1].as_matrix().size,1))\n",
    "    print('Our testing accuracy is {}'.format(test_accuracy))\n",
    "\n",
    "    print(confusion_matrix(y_test.as_matrix().reshape(y_test.as_matrix().size,1),\n",
    "                           Y_test_pred.iloc[:,1].as_matrix().reshape(Y_test_pred.iloc[:,1].as_matrix().size,1)))"
   ]
  },
  {
   "cell_type": "code",
   "execution_count": null,
   "metadata": {},
   "outputs": [],
   "source": []
  },
  {
   "cell_type": "code",
   "execution_count": null,
   "metadata": {},
   "outputs": [],
   "source": [
    "# max_depth=20, n_estimators=800, min_samples_split=10, min_samples_leaf=4\n",
    "#\n",
    "create_RF_model()"
   ]
  },
  {
   "cell_type": "code",
   "execution_count": null,
   "metadata": {},
   "outputs": [],
   "source": [
    "# max_depth=10, n_estimators=600, min_samples_split=6, min_samples_leaf=4\n",
    "#\n",
    "create_RF_model()"
   ]
  },
  {
   "cell_type": "code",
   "execution_count": null,
   "metadata": {},
   "outputs": [],
   "source": [
    "# learning_rate=0.03, max_depth=4, n_estimators=800, \n",
    "# min_samples_split=10, min_samples_leaf=4\n",
    "create_GB_model()"
   ]
  },
  {
   "cell_type": "code",
   "execution_count": null,
   "metadata": {},
   "outputs": [],
   "source": [
    "# learning_rate=0.08, max_depth=12, n_estimators=1200, \n",
    "# min_samples_split=10, min_samples_leaf=4\n",
    "create_GB_model()"
   ]
  },
  {
   "cell_type": "code",
   "execution_count": null,
   "metadata": {},
   "outputs": [],
   "source": [
    "create_GB_model()"
   ]
  },
  {
   "cell_type": "code",
   "execution_count": null,
   "metadata": {},
   "outputs": [],
   "source": []
  },
  {
   "cell_type": "code",
   "execution_count": null,
   "metadata": {},
   "outputs": [],
   "source": [
    "list1 = [4,8]\n",
    "score_list=[]\n",
    "for value in list1:\n",
    "    score_list.append(create_RF_model(min_samples_split=value))"
   ]
  },
  {
   "cell_type": "code",
   "execution_count": null,
   "metadata": {},
   "outputs": [],
   "source": [
    "plot_df4 = pd.DataFrame(score_list, columns=['min_samples_split', 'Acc', 'Loss']).set_index('min_samples_split')"
   ]
  },
  {
   "cell_type": "code",
   "execution_count": null,
   "metadata": {},
   "outputs": [],
   "source": [
    "score_list"
   ]
  },
  {
   "cell_type": "code",
   "execution_count": null,
   "metadata": {},
   "outputs": [],
   "source": [
    "# Gradient Boosting\n",
    "# 2 classes balanced\n",
    "\n",
    "print(f'Accuracy: {accuracy_score(y_test, GB_test_predict)}')\n",
    "print(f'Log Loss:: {log_loss(y_train, GB_train_proba)}')\n",
    "\n",
    "GB_conf = plot_confusion_matrix(GB_model, X_train ,y_train ,normalize='true',cmap='YlOrRd')\n",
    "GB_conf.ax_.grid(False)\n",
    "GB_conf.ax_.set_title('Gradient Boosting 2 Balanced Classes');"
   ]
  },
  {
   "cell_type": "code",
   "execution_count": null,
   "metadata": {},
   "outputs": [],
   "source": []
  },
  {
   "cell_type": "code",
   "execution_count": null,
   "metadata": {},
   "outputs": [],
   "source": [
    "def gradient_class_grid_search():\n",
    "    \n",
    "    params = {\n",
    "        'learning_rate':[.005,.008],\n",
    "        'n_estimators':[800,1000,1200],\n",
    "        'min_samples_split':[6,9],\n",
    "        'min_samples_leaf':[2,4],\n",
    "        'max_depth':[15, 20],\n",
    "        'warm_start':[False]}\n",
    "        \n",
    "    gg_gridsearch = GridSearchCV(GradientBoostingClassifier(), \n",
    "                  params,\n",
    "                  n_jobs=-1,\n",
    "                  verbose=True,\n",
    "                  scoring='neg_log_loss',\n",
    "                  cv=1)\n",
    "\n",
    "    gg_gridsearch.fit(X_train, y_train)\n",
    "    \n",
    "    print(gg_gridsearch.best_params_)\n",
    "    return gg_gridsearch.best_params_\n",
    "\n",
    "\n",
    "best_accuracy = {'learning_rate': 0.03,\n",
    "         'max_depth': 5,\n",
    "         'min_samples_leaf': 2,\n",
    "         'min_samples_split': 10,\n",
    "         'n_estimators': 300}"
   ]
  },
  {
   "cell_type": "code",
   "execution_count": null,
   "metadata": {},
   "outputs": [],
   "source": [
    "params = gradient_class_grid_search()"
   ]
  },
  {
   "cell_type": "code",
   "execution_count": null,
   "metadata": {},
   "outputs": [],
   "source": []
  },
  {
   "cell_type": "code",
   "execution_count": null,
   "metadata": {},
   "outputs": [],
   "source": [
    "LR = LogisticRegression(fit_intercept=True, penalty='l2', solver='sag', warm_start=True, C=.8)\n",
    "RF = RandomForestClassifier(n_estimators=800 ,max_depth=4, min_samples_split=10, min_samples_leaf=4)\n",
    "GB = GradientBoostingClassifier(learning_rate=0.03, max_depth=4, n_estimators=800, \n",
    "                                      min_samples_split=10, min_samples_leaf=4)"
   ]
  },
  {
   "cell_type": "code",
   "execution_count": null,
   "metadata": {},
   "outputs": [],
   "source": [
    "conf_LR = plot_confusion_matrix(LR, X_train_one_hot ,y_train ,normalize='true',cmap='YlOrRd')\n",
    "conf_RF = plot_confusion_matrix(RF, X_train_one_hot ,y_train ,normalize='true',cmap='YlOrRd')\n",
    "conf_GB = plot_confusion_matrix(GB, X_train_one_hot ,y_train ,normalize='true',cmap='YlOrRd')\n",
    "conf_LR.ax_.grid(False)\n",
    "conf_RF.ax_.grid(False)\n",
    "conf_GB.ax_.grid(False)\n",
    "conf_LR.ax_.set_title('Logistic Regression Confusion Matrix')\n",
    "conf_RF.ax_.set_title('Random Forest Confusion Matrix')\n",
    "conf_GB.ax_.set_title('Gradient Boosting Confusion Matrix')"
   ]
  },
  {
   "cell_type": "code",
   "execution_count": null,
   "metadata": {},
   "outputs": [],
   "source": [
    "feature_importances = GB_model.feature_importances_\n",
    "names = np.array(list(X_train.columns))\n",
    "\n",
    "fig, ax = plt.subplots(figsize=(10,8))\n",
    "fig.suptitle('Gradient Boosting Feature Importance', fontsize=14)\n",
    "ax.bar(names, feature_importances)\n",
    "ax.set_xticklabels(labels=names, rotation=90, fontsize=12);\n",
    "\n",
    "#fig.savefig('Gradient_Boosting_Feature_Importance')\n",
    "plt.tight_layout()"
   ]
  },
  {
   "cell_type": "code",
   "execution_count": null,
   "metadata": {},
   "outputs": [],
   "source": [
    "classifiers = [\n",
    "    KNeighborsClassifier(3),\n",
    "    #SVC(kernel=\"rbf\", C=0.025, probability=True),\n",
    "    #NuSVC(probability=True),\n",
    "    AdaBoostClassifier(),\n",
    "    GaussianNB(),\n",
    "    #QuadraticDiscriminantAnalysis(),\n",
    "    RandomForestClassifier(),\n",
    "    LogisticRegression(max_iter=1000),\n",
    "    GradientBoostingClassifier()]\n",
    "\n",
    "print(f'    {len(np.unique(y_train))} Labels')\n",
    "for clf in classifiers:\n",
    "    clf.fit(X_train, y_train)\n",
    "    name = clf.__class__.__name__\n",
    "    \n",
    "    print(\"=\"*30)\n",
    "    print(name)\n",
    "    \n",
    "    print('****Results****')\n",
    "    train_predictions = clf.predict(X_test)\n",
    "    train_proba = clf.predict_proba(X_train)\n",
    "    acc = accuracy_score(y_test, train_predictions)\n",
    "    loss = log_loss(y_train, train_proba)\n",
    "    print(\"Accuracy: {:.4%}\".format(acc))\n",
    "    print(\"Log Loss: {:.4%}\".format(loss))\n",
    "    "
   ]
  },
  {
   "cell_type": "code",
   "execution_count": 42,
   "metadata": {},
   "outputs": [],
   "source": [
    "img1 = mpimg.imread('plots/Unbalanced_LR2.png')\n",
    "img2 = mpimg.imread('plots/Balanced_LR.png')"
   ]
  },
  {
   "cell_type": "code",
   "execution_count": 45,
   "metadata": {},
   "outputs": [
    {
     "data": {
      "image/png": "[encoded data removed]",
      "text/plain": [
       "<Figure size 432x288 with 2 Axes>"
      ]
     },
     "metadata": {
      "needs_background": "light"
     },
     "output_type": "display_data"
    }
   ],
   "source": [
    "f = plt.figure()\n",
    "f.add_subplot(1,2, 1)\n",
    "plt.imshow(img1)\n",
    "f.add_subplot(1,2, 2)\n",
    "plt.imshow(img2)\n",
    "plt.show(block=True)"
   ]
  },
  {
   "cell_type": "code",
   "execution_count": null,
   "metadata": {},
   "outputs": [],
   "source": []
  }
 ],
 "metadata": {
  "kernelspec": {
   "display_name": "Python 3",
   "language": "python",
   "name": "python3"
  },
  "language_info": {
   "codemirror_mode": {
    "name": "ipython",
    "version": 3
   },
   "file_extension": ".py",
   "mimetype": "text/x-python",
   "name": "python",
   "nbconvert_exporter": "python",
   "pygments_lexer": "ipython3",
   "version": "3.7.4"
  }
 },
 "nbformat": 4,
 "nbformat_minor": 2
}
