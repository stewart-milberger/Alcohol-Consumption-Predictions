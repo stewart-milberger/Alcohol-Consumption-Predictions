{
 "cells": [
  {
   "cell_type": "code",
   "execution_count": 1,
   "metadata": {},
   "outputs": [],
   "source": [
    "import numpy as np\n",
    "from scipy import stats\n",
    "import pandas as pd\n",
    "import matplotlib.pyplot as plt\n",
    "import matplotlib.pyplot as plt\n",
    "from sklearn.utils import resample\n",
    "\n",
    "from sklearn.linear_model import LogisticRegression\n",
    "from sklearn.ensemble import RandomForestClassifier, GradientBoostingClassifier, AdaBoostClassifier\n",
    "from sklearn.neighbors import KNeighborsClassifier\n",
    "from sklearn.svm import SVC, LinearSVC, NuSVC\n",
    "from sklearn.naive_bayes import GaussianNB\n",
    "from sklearn.discriminant_analysis import LinearDiscriminantAnalysis\n",
    "from sklearn.discriminant_analysis import QuadraticDiscriminantAnalysis\n",
    "\n",
    "from sklearn.model_selection import train_test_split, GridSearchCV, StratifiedKFold\n",
    "from sklearn.metrics import mean_squared_error, r2_score, plot_confusion_matrix, recall_score\n",
    "from sklearn.metrics import accuracy_score, log_loss, precision_score\n",
    "from sklearn.preprocessing import OneHotEncoder\n",
    "import copy\n",
    "\n",
    "%matplotlib inline"
   ]
  },
  {
   "cell_type": "code",
   "execution_count": 2,
   "metadata": {},
   "outputs": [],
   "source": [
    "# Quick import of cleaned/imputed data\n",
    "complete_df = pd.read_csv('data/update1.csv').drop(columns='Unnamed: 0')"
   ]
  },
  {
   "cell_type": "code",
   "execution_count": 3,
   "metadata": {},
   "outputs": [],
   "source": [
    "# One hot encode the specified columns, remove the original columns, append the \n",
    "# encoded columns, and return df\n",
    "\n",
    "def create_ohe_df(df, col_list):\n",
    "    df2 = copy.copy(df)\n",
    "    \n",
    "    temp_df = df[col_list] \n",
    "    df2 = df2.drop(columns=col_list)\n",
    "    \n",
    "    enc = OneHotEncoder(handle_unknown='ignore')\n",
    "    enc.fit(temp_df)\n",
    "    one_hot_df = enc.transform(temp_df)\n",
    "    \n",
    "    return pd.concat([df2, pd.DataFrame(one_hot_df.todense())], axis=1)\n"
   ]
  },
  {
   "cell_type": "code",
   "execution_count": 4,
   "metadata": {},
   "outputs": [],
   "source": [
    "OHE_df = create_ohe_df(complete_df, ['Ethnicity', 'Gender', 'Been_Arrested', \n",
    "                                         'State', 'Work_Situation'])"
   ]
  },
  {
   "cell_type": "code",
   "execution_count": 5,
   "metadata": {},
   "outputs": [],
   "source": [
    "cluster_df = copy.copy(OHE_df)"
   ]
  },
  {
   "cell_type": "code",
   "execution_count": 6,
   "metadata": {},
   "outputs": [],
   "source": [
    "# add target feature according to Average Drinking feature\n",
    "\n",
    "cluster_df['target'] = cluster_df['Average_Drinking'].map(lambda x: 0 if x==11\n",
    "                                                                  else 1 if x>=7 and x<=10\n",
    "                                                                    else 2 if x<=5\n",
    "                                                                     else None)\n",
    "\n",
    "# filter df by values in Average Drinking which belong to a label\n",
    "train_df = cluster_df[cluster_df['target'].notnull()]\n",
    "train_df = train_df.drop(columns=['Beer_Frequency', 'Liquor_Frequency', 'Wine_Frequency', \n",
    "                                  'Average_Drinking']);"
   ]
  },
  {
   "cell_type": "code",
   "execution_count": 7,
   "metadata": {},
   "outputs": [],
   "source": [
    "# Function to balance all labels equally depending on the size of the minority.\n",
    "# Percent argument determines the sample size by increasing the minority size by the \n",
    "# specified percentage. All labels under this threshold are oversampled, and all \n",
    "# labels over the threshold are undersampled.\n",
    "\n",
    "def balance_classes(train_df, percent):\n",
    "    \n",
    "    zeros = train_df[train_df['target'] == 0]\n",
    "    ones = train_df[train_df['target'] == 1]\n",
    "    twos = train_df[train_df['target'] == 2]\n",
    "\n",
    "    # Make list of labels which have more than 0 data points\n",
    "    label_list = [ones, twos, zeros]\n",
    "    non_zero_labels = []\n",
    "    for label in label_list:\n",
    "        if label.shape[0] != 0:\n",
    "            non_zero_labels.append(label)\n",
    "        \n",
    "    # get list of sized of labels to find the minority\n",
    "    labels = []\n",
    "    for label in non_zero_labels:\n",
    "        labels.append(label.shape[0])\n",
    "    \n",
    "    minority = np.min(labels)\n",
    "    total_rows = twos.shape[0]+ones.shape[0]+zeros.shape[0]\n",
    "    \n",
    "    # Calculate the target number of data points for each class\n",
    "    target_num = int(total_rows * ((minority/total_rows) + (minority/total_rows) * percent)) \n",
    "    \n",
    "    # resample all labels accoprding to the target sample size\n",
    "    resampled_zeros = resample(zeros, n_samples=target_num, stratify=zeros)\n",
    "    resampled_ones = resample(ones, n_samples=target_num, stratify=ones)\n",
    "    resampled_twos = resample(twos, n_samples=target_num, stratify=twos)\n",
    "    \n",
    "    # create new dataframe containing all resampled labels\n",
    "    train_df = pd.concat([resampled_zeros, resampled_ones, resampled_twos], \n",
    "                         ignore_index=True)\n",
    "    \n",
    "    \n",
    "    return train_df "
   ]
  },
  {
   "cell_type": "code",
   "execution_count": 8,
   "metadata": {},
   "outputs": [],
   "source": [
    "train_df = balance_classes(train_df, .3)"
   ]
  },
  {
   "cell_type": "code",
   "execution_count": 9,
   "metadata": {},
   "outputs": [],
   "source": [
    "# Create X and y for train_test_split\n",
    "\n",
    "def convert_split(target_col):    \n",
    "\n",
    "    X = train_df.drop(columns=target_col)\n",
    "    y = train_df[target_col]\n",
    "    \n",
    "    X_train, X_test, y_train, y_test = train_test_split(X, y, stratify=y)\n",
    "    return X_train, X_test, y_train, y_test"
   ]
  },
  {
   "cell_type": "code",
   "execution_count": 10,
   "metadata": {},
   "outputs": [],
   "source": [
    "X_train, X_test, y_train, y_test= convert_split('target')"
   ]
  },
  {
   "cell_type": "code",
   "execution_count": 29,
   "metadata": {},
   "outputs": [],
   "source": [
    "# Create GB model, print the accuracy,log loss and confusion matrix\n",
    "\n",
    "def create_GB_model():\n",
    "    GB_model = GradientBoostingClassifier(learning_rate=0.08, max_depth=12, n_estimators=1200, \n",
    "                                      min_samples_split=10, min_samples_leaf=4)\n",
    "    GB_model.fit(X_train, y_train)\n",
    "\n",
    "    GB_train_predict = GB_model.predict(X_train)\n",
    "    GB_train_proba = GB_model.predict_proba(X_train)\n",
    "    GB_test_predict = GB_model.predict(X_test)\n",
    "    \n",
    "    print(f'Acc: {accuracy_score(y_test, GB_test_predict)}')\n",
    "    print(f'Loss: {log_loss(y_train, GB_train_proba)}')\n",
    "    RF_conf = plot_confusion_matrix(GB_model, X_test ,y_test ,normalize='true',cmap='YlOrRd')\n",
    "    RF_conf.ax_.grid(False)\n",
    "    RF_conf.ax_.set_title('GB 3 Balanced Classes');\n",
    "    "
   ]
  },
  {
   "cell_type": "code",
   "execution_count": 31,
   "metadata": {},
   "outputs": [],
   "source": [
    "# Create RF model, print the accuracy,log loss and confusion matrix\n",
    "\n",
    "def create_RF_model(max_depth=10, n_estimators=600, min_samples_split=6, min_samples_leaf=4):\n",
    "    RF_model = RandomForestClassifier(max_depth = max_depth, \n",
    "                                      n_estimators = n_estimators, \n",
    "                                      min_samples_split = min_samples_split, \n",
    "                                      min_samples_leaf = min_samples_leaf)\n",
    "    RF_model.fit(X_train, y_train)\n",
    "\n",
    "    train_predict = RF_model.predict(X_train)\n",
    "    train_proba = RF_model.predict_proba(X_train)\n",
    "    test_predict = RF_model.predict(X_test)\n",
    "    '''\n",
    "    scores.extend([min_samples_split, \n",
    "                   accuracy_score(y_test, test_predict), \n",
    "                   log_loss(y_train, train_proba)])\n",
    "    '''\n",
    "    print(f'Acc: {accuracy_score(y_test, RF_test_predict)}')\n",
    "    print(f'Loss: {log_loss(y_train, RF_train_proba)}')\n",
    "    RF_conf = plot_confusion_matrix(RF_model, X_test ,y_test ,normalize='true',cmap='YlOrRd')\n",
    "    RF_conf.ax_.grid(False)\n",
    "    RF_conf.ax_.set_title('RF 3 Balanced Classes');\n"
   ]
  },
  {
   "cell_type": "code",
   "execution_count": 17,
   "metadata": {},
   "outputs": [
    {
     "data": {
      "text/plain": [
       "[10, 0.6083027393391697, 0.7640639414281043]"
      ]
     },
     "execution_count": 17,
     "metadata": {},
     "output_type": "execute_result"
    },
    {
     "data": {
      "image/png": "[encoded data removed]",
      "text/plain": [
       "<Figure size 432x288 with 2 Axes>"
      ]
     },
     "metadata": {
      "needs_background": "light"
     },
     "output_type": "display_data"
    }
   ],
   "source": [
    "# max_depth=20, n_estimators=800, min_samples_split=10, min_samples_leaf=4\n",
    "#\n",
    "create_RF_model()"
   ]
  },
  {
   "cell_type": "code",
   "execution_count": 32,
   "metadata": {},
   "outputs": [
    {
     "ename": "NameError",
     "evalue": "name 'RF_test_predict' is not defined",
     "output_type": "error",
     "traceback": [
      "\u001b[0;31m---------------------------------------------------------------------------\u001b[0m",
      "\u001b[0;31mNameError\u001b[0m                                 Traceback (most recent call last)",
      "\u001b[0;32m<ipython-input-32-cdfbe491b978>\u001b[0m in \u001b[0;36m<module>\u001b[0;34m\u001b[0m\n\u001b[1;32m      1\u001b[0m \u001b[0;31m# max_depth=10, n_estimators=600, min_samples_split=6, min_samples_leaf=4\u001b[0m\u001b[0;34m\u001b[0m\u001b[0;34m\u001b[0m\u001b[0;34m\u001b[0m\u001b[0m\n\u001b[1;32m      2\u001b[0m \u001b[0;31m#\u001b[0m\u001b[0;34m\u001b[0m\u001b[0;34m\u001b[0m\u001b[0;34m\u001b[0m\u001b[0m\n\u001b[0;32m----> 3\u001b[0;31m \u001b[0mcreate_RF_model\u001b[0m\u001b[0;34m(\u001b[0m\u001b[0;34m)\u001b[0m\u001b[0;34m\u001b[0m\u001b[0;34m\u001b[0m\u001b[0m\n\u001b[0m",
      "\u001b[0;32m<ipython-input-31-7b00127ad1a6>\u001b[0m in \u001b[0;36mcreate_RF_model\u001b[0;34m(max_depth, n_estimators, min_samples_split, min_samples_leaf)\u001b[0m\n\u001b[1;32m     16\u001b[0m                    log_loss(y_train, train_proba)])\n\u001b[1;32m     17\u001b[0m     '''\n\u001b[0;32m---> 18\u001b[0;31m     \u001b[0mprint\u001b[0m\u001b[0;34m(\u001b[0m\u001b[0;34mf'Acc: {accuracy_score(y_test, RF_test_predict)}'\u001b[0m\u001b[0;34m)\u001b[0m\u001b[0;34m\u001b[0m\u001b[0;34m\u001b[0m\u001b[0m\n\u001b[0m\u001b[1;32m     19\u001b[0m     \u001b[0mprint\u001b[0m\u001b[0;34m(\u001b[0m\u001b[0;34mf'Loss: {log_loss(y_train, RF_train_proba)}'\u001b[0m\u001b[0;34m)\u001b[0m\u001b[0;34m\u001b[0m\u001b[0;34m\u001b[0m\u001b[0m\n\u001b[1;32m     20\u001b[0m     \u001b[0mRF_conf\u001b[0m \u001b[0;34m=\u001b[0m \u001b[0mplot_confusion_matrix\u001b[0m\u001b[0;34m(\u001b[0m\u001b[0mRF_model\u001b[0m\u001b[0;34m,\u001b[0m \u001b[0mX_test\u001b[0m \u001b[0;34m,\u001b[0m\u001b[0my_test\u001b[0m \u001b[0;34m,\u001b[0m\u001b[0mnormalize\u001b[0m\u001b[0;34m=\u001b[0m\u001b[0;34m'true'\u001b[0m\u001b[0;34m,\u001b[0m\u001b[0mcmap\u001b[0m\u001b[0;34m=\u001b[0m\u001b[0;34m'YlOrRd'\u001b[0m\u001b[0;34m)\u001b[0m\u001b[0;34m\u001b[0m\u001b[0;34m\u001b[0m\u001b[0m\n",
      "\u001b[0;31mNameError\u001b[0m: name 'RF_test_predict' is not defined"
     ]
    }
   ],
   "source": [
    "# max_depth=10, n_estimators=600, min_samples_split=6, min_samples_leaf=4\n",
    "#\n",
    "create_RF_model()"
   ]
  },
  {
   "cell_type": "code",
   "execution_count": 28,
   "metadata": {},
   "outputs": [
    {
     "name": "stdout",
     "output_type": "stream",
     "text": [
      "Acc: 0.5888167184411184\n",
      "Loss: 0.7066484487918383\n"
     ]
    },
    {
     "data": {
      "image/png": "[encoded data removed]",
      "text/plain": [
       "<Figure size 432x288 with 2 Axes>"
      ]
     },
     "metadata": {
      "needs_background": "light"
     },
     "output_type": "display_data"
    }
   ],
   "source": [
    "# learning_rate=0.03, max_depth=4, n_estimators=800, \n",
    "# min_samples_split=10, min_samples_leaf=4\n",
    "create_GB_model()"
   ]
  },
  {
   "cell_type": "code",
   "execution_count": 30,
   "metadata": {},
   "outputs": [
    {
     "name": "stdout",
     "output_type": "stream",
     "text": [
      "Acc: 0.5930528099406948\n",
      "Loss: 0.0002942909756840503\n"
     ]
    },
    {
     "data": {
      "image/png": "[encoded data removed]",
      "text/plain": [
       "<Figure size 432x288 with 2 Axes>"
      ]
     },
     "metadata": {
      "needs_background": "light"
     },
     "output_type": "display_data"
    }
   ],
   "source": [
    "# learning_rate=0.08, max_depth=12, n_estimators=1200, \n",
    "# min_samples_split=10, min_samples_leaf=4\n",
    "create_GB_model()"
   ]
  },
  {
   "cell_type": "code",
   "execution_count": null,
   "metadata": {},
   "outputs": [],
   "source": []
  },
  {
   "cell_type": "code",
   "execution_count": null,
   "metadata": {},
   "outputs": [],
   "source": []
  },
  {
   "cell_type": "code",
   "execution_count": 12,
   "metadata": {},
   "outputs": [],
   "source": [
    "list1 = [4,8]\n",
    "score_list=[]\n",
    "for value in list1:\n",
    "    score_list.append(create_RF_model(min_samples_split=value))"
   ]
  },
  {
   "cell_type": "code",
   "execution_count": 14,
   "metadata": {},
   "outputs": [],
   "source": [
    "plot_df4 = pd.DataFrame(score_list, columns=['min_samples_split', 'Acc', 'Loss']).set_index('min_samples_split')"
   ]
  },
  {
   "cell_type": "code",
   "execution_count": 13,
   "metadata": {},
   "outputs": [
    {
     "data": {
      "text/plain": [
       "[[4, 0.608020333239198, 0.7592752883937549],\n",
       " [8, 0.6099971759390003, 0.7590762292254586]]"
      ]
     },
     "execution_count": 13,
     "metadata": {},
     "output_type": "execute_result"
    }
   ],
   "source": [
    "score_list"
   ]
  },
  {
   "cell_type": "code",
   "execution_count": null,
   "metadata": {},
   "outputs": [],
   "source": [
    "# Gradient Boosting\n",
    "# 2 classes balanced\n",
    "\n",
    "print(f'Accuracy: {accuracy_score(y_test, GB_test_predict)}')\n",
    "print(f'Log Loss:: {log_loss(y_train, GB_train_proba)}')\n",
    "\n",
    "GB_conf = plot_confusion_matrix(GB_model, X_train ,y_train ,normalize='true',cmap='YlOrRd')\n",
    "GB_conf.ax_.grid(False)\n",
    "GB_conf.ax_.set_title('Gradient Boosting 2 Balanced Classes');"
   ]
  },
  {
   "cell_type": "code",
   "execution_count": null,
   "metadata": {},
   "outputs": [],
   "source": []
  },
  {
   "cell_type": "code",
   "execution_count": null,
   "metadata": {},
   "outputs": [],
   "source": [
    "def gradient_class_grid_search():\n",
    "    \n",
    "    params = {\n",
    "        'learning_rate':[.03,.05,.06,.08],\n",
    "        'n_estimators':[300, 400],\n",
    "        'min_samples_split':[8, 10],\n",
    "        'min_samples_leaf':[2,4],\n",
    "        'max_depth':[4, 5, 7],\n",
    "        'warm_start':[True, False]}\n",
    "        \n",
    "    gg_gridsearch = GridSearchCV(GradientBoostingClassifier(), \n",
    "                  params,\n",
    "                  n_jobs=-1,\n",
    "                  verbose=True,\n",
    "                  scoring='neg_log_loss')\n",
    "\n",
    "    gg_gridsearch.fit(X_train, y_train)\n",
    "    \n",
    "    print(gg_gridsearch.best_params_)\n",
    "    return gg_gridsearch.best_params_\n",
    "\n",
    "\n",
    "best_accuracy = {'learning_rate': 0.03,\n",
    "         'max_depth': 5,\n",
    "         'min_samples_leaf': 2,\n",
    "         'min_samples_split': 10,\n",
    "         'n_estimators': 300}"
   ]
  },
  {
   "cell_type": "code",
   "execution_count": null,
   "metadata": {},
   "outputs": [],
   "source": []
  },
  {
   "cell_type": "code",
   "execution_count": null,
   "metadata": {},
   "outputs": [],
   "source": [
    "LR = LogisticRegression(fit_intercept=True, penalty='l2', solver='sag', warm_start=True, C=.8)\n",
    "RF = RandomForestClassifier(n_estimators=800 ,max_depth=4, min_samples_split=10, min_samples_leaf=4)\n",
    "GB = GradientBoostingClassifier(learning_rate=0.03, max_depth=4, n_estimators=800, \n",
    "                                      min_samples_split=10, min_samples_leaf=4)"
   ]
  },
  {
   "cell_type": "code",
   "execution_count": null,
   "metadata": {},
   "outputs": [],
   "source": [
    "conf_LR = plot_confusion_matrix(LR, X_train_one_hot ,y_train ,normalize='true',cmap='YlOrRd')\n",
    "conf_RF = plot_confusion_matrix(RF, X_train_one_hot ,y_train ,normalize='true',cmap='YlOrRd')\n",
    "conf_GB = plot_confusion_matrix(GB, X_train_one_hot ,y_train ,normalize='true',cmap='YlOrRd')\n",
    "conf_LR.ax_.grid(False)\n",
    "conf_RF.ax_.grid(False)\n",
    "conf_GB.ax_.grid(False)\n",
    "conf_LR.ax_.set_title('Logistic Regression Confusion Matrix')\n",
    "conf_RF.ax_.set_title('Random Forest Confusion Matrix')\n",
    "conf_GB.ax_.set_title('Gradient Boosting Confusion Matrix')"
   ]
  },
  {
   "cell_type": "code",
   "execution_count": null,
   "metadata": {},
   "outputs": [],
   "source": [
    "feature_importances = GB_model.feature_importances_\n",
    "names = np.array(list(X_train.columns))\n",
    "\n",
    "fig, ax = plt.subplots(figsize=(10,8))\n",
    "fig.suptitle('Gradient Boosting Feature Importance', fontsize=14)\n",
    "ax.bar(names, feature_importances)\n",
    "ax.set_xticklabels(labels=names, rotation=90, fontsize=12);\n",
    "\n",
    "#fig.savefig('Gradient_Boosting_Feature_Importance')\n",
    "plt.tight_layout()"
   ]
  },
  {
   "cell_type": "code",
   "execution_count": null,
   "metadata": {},
   "outputs": [],
   "source": [
    "classifiers = [\n",
    "    KNeighborsClassifier(3),\n",
    "    #SVC(kernel=\"rbf\", C=0.025, probability=True),\n",
    "    #NuSVC(probability=True),\n",
    "    AdaBoostClassifier(),\n",
    "    GaussianNB(),\n",
    "    #QuadraticDiscriminantAnalysis(),\n",
    "    RandomForestClassifier(),\n",
    "    LogisticRegression(max_iter=1000),\n",
    "    GradientBoostingClassifier()]\n",
    "\n",
    "print(f'    {len(np.unique(y_train))} Labels')\n",
    "for clf in classifiers:\n",
    "    clf.fit(X_train, y_train)\n",
    "    name = clf.__class__.__name__\n",
    "    \n",
    "    print(\"=\"*30)\n",
    "    print(name)\n",
    "    \n",
    "    print('****Results****')\n",
    "    train_predictions = clf.predict(X_test)\n",
    "    train_proba = clf.predict_proba(X_train)\n",
    "    acc = accuracy_score(y_test, train_predictions)\n",
    "    loss = log_loss(y_train, train_proba)\n",
    "    print(\"Accuracy: {:.4%}\".format(acc))\n",
    "    print(\"Log Loss: {:.4%}\".format(loss))\n",
    "    "
   ]
  },
  {
   "cell_type": "code",
   "execution_count": null,
   "metadata": {},
   "outputs": [],
   "source": []
  }
 ],
 "metadata": {
  "kernelspec": {
   "display_name": "Python 3",
   "language": "python",
   "name": "python3"
  },
  "language_info": {
   "codemirror_mode": {
    "name": "ipython",
    "version": 3
   },
   "file_extension": ".py",
   "mimetype": "text/x-python",
   "name": "python",
   "nbconvert_exporter": "python",
   "pygments_lexer": "ipython3",
   "version": "3.7.4"
  }
 },
 "nbformat": 4,
 "nbformat_minor": 2
}
