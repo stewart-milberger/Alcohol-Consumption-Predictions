{
 "cells": [
  {
   "cell_type": "code",
   "execution_count": 29,
   "metadata": {},
   "outputs": [],
   "source": [
    "import numpy as np\n",
    "from scipy import stats\n",
    "import pandas as pd\n",
    "import matplotlib.pyplot as plt\n",
    "import savReaderWriter\n",
    "from random import choice\n",
    "import matplotlib.pyplot as plt\n",
    "from sklearn.cluster import AgglomerativeClustering\n",
    "from sklearn.cluster import KMeans\n",
    "from sklearn.ensemble import RandomForestClassifier\n",
    "from sklearn.model_selection import train_test_split\n",
    "\n",
    "\n",
    "%matplotlib inline\n",
    "datasets = []"
   ]
  },
  {
   "cell_type": "code",
   "execution_count": 2,
   "metadata": {},
   "outputs": [],
   "source": [
    "# Import each dataset \n",
    "\n",
    "def import_data():\n",
    "    \n",
    "        with savReaderWriter.SavReader('N8Final/n8.sav') as reader:\n",
    "            N8 = pd.DataFrame(reader.all(), columns = [str(s) for s in reader.header])\n",
    "\n",
    "        N8.columns=N8.columns.str.replace(\"'\", '')\n",
    "        N8.columns=N8.columns.str[1:]\n",
    "        datasets.append([N8, 'N8'])\n",
    "\n",
    "\n",
    "        with savReaderWriter.SavReader('N9/N9.SAV') as reader:\n",
    "            N9 = pd.DataFrame(reader.all(), columns = [str(s) for s in reader.header])\n",
    "\n",
    "\n",
    "        N9.columns=N9.columns.str.replace(\"'\", '')\n",
    "        N9.columns=N9.columns.str[1:]\n",
    "        datasets.append([N9, 'N9'])\n",
    "\n",
    "\n",
    "        with savReaderWriter.SavReader('N10/n10.sav') as reader:\n",
    "            N10 = pd.DataFrame(reader.all(), columns = [str(s) for s in reader.header])\n",
    "\n",
    "        N10.columns=N10.columns.str.replace(\"'\", '')\n",
    "        N10.columns=N10.columns.str[1:]\n",
    "        datasets.append([N10, 'N10'])\n",
    "\n",
    "\n",
    "        with savReaderWriter.SavReader('N11/n11.sav') as reader:\n",
    "            N11 = pd.DataFrame(reader.all(), columns = [str(s) for s in reader.header])\n",
    "\n",
    "        N11.columns=N11.columns.str.replace(\"'\", '')\n",
    "        N11.columns=N11.columns.str[1:]\n",
    "        datasets.append([N11, 'N11'])\n",
    "\n",
    "\n",
    "        with savReaderWriter.SavReader('N12/n12.sav') as reader:\n",
    "            N12 = pd.DataFrame(reader.all(), columns = [str(s) for s in reader.header])\n",
    "\n",
    "        N12.columns=N12.columns.str.replace(\"'\", '')\n",
    "        N12.columns=N12.columns.str[1:]\n",
    "        datasets.append([N12, 'N12'])\n",
    "\n",
    "        return N8, N9, N10, N11, N12"
   ]
  },
  {
   "cell_type": "code",
   "execution_count": 3,
   "metadata": {},
   "outputs": [],
   "source": [
    "N8, N9, N10, N11, N12 = import_data()"
   ]
  },
  {
   "cell_type": "code",
   "execution_count": 4,
   "metadata": {},
   "outputs": [],
   "source": [
    "#create dictionaries for columns which have consistent values across all datasets\n",
    "ethnicity_dict = {1:'Asian', 2:'Black', 3:'Black/Hispanic', 4:'White', 5:'White/Hispanic', 6:'American Indain', 7:'Pacific Islander', 9:'Mixed', 10:'Mixed', 11:'Native American', 18:'Hispanic'}\n",
    "age_dict = {1:19, 2:22, 3:27, 4:32, 5:37, 6:42, 7:47, 8:52, 9:57, 10:62, 11:67, 12:72, 13:int(np.random.normal(80, 2.5, 1))}\n",
    "work_dict = {1:'Full Time', 2:'Part Time', 3:'Temporary Leave', 4:'Unemployed', 5:'Unemployed', 6:'Student', 7:'Retired', 8:'Homemaker', 9:'Disabled', 10:'Never Worked', 11:'Self Employed', 12:'Volunteer Work'}\n",
    "\n",
    "#functions to clean and return each individual dataset formatted in exactly the same way\n",
    "#with the exact same columns\n",
    "def clean_N12(N12):\n",
    "    state_dict_N12 = {-8: 'Unknown', 1: 'Alabama', 2: 'Alaska', 3:'American Somoa', 4:'Arizona', 5:'Arkansas', 6:'California', 7:'Colorado', 8:'Connecticut', 9:'Deleware', 10:'District of Columbia', 11:'Florida', 12:'Georgia', 13:'Guam', 14:'Hawaii', 15:'Idaho', 16:'Illinois', 17:'Indiana', 18:'Iowa', 19:'Kansas', 20:'Kentucky', 21:'Louisiana', 22:'Maine', 23:'Maryland', 24:'Massachusetts', 25:'Michigan', 26:'Minnesota', 27:'Mississippi', 28:'Missouri', 29:'Montana', 30:'Nebraska', 31:'Nevada', 32:'New Hampshire', 33:'New Jersey', 34:'New Mexico', 35:'New York', 36:'North Carolina', 37:'North Dakota', 38:'Northern Mariana Islands', 39:'Ohio', 40:'Oklahoma', 41:'Oregon', 42:'Pennsylvania', 43:'Peurto Rico', 44:'Rhode Island', 45:'South Carolina', 46:'South Dakota', 47:'Tennessee', 48:'Texas', 49:'Utah', 50:'Vermont', 51:'Virginia', 52:'Virgin Islands', 53:'Washington', 54:'West Virginia', 55:'Wisconsin', 56:'Wyoming', 95:'Unknown', 97:'Unknown', 99:'Unknown'}\n",
    "    cleaned_N12 = N12[['a1', 'age1', 'mqa2', 'a4', 'a12', 'a17', 'a18c', 'b1c', 'b2c', 'b3c', 'b4c', 'b5', 'n1', 'i3', 'i5', 'i6', 'b31', 'a15']]\n",
    "    cleaned_N12.columns = ['Gender', 'Age', 'State', 'Ethnicity', 'Education', 'Work_Situation', 'Household_Income', 'Wine_Frequency', 'Beer_Frequency', 'Liquor_Frequency', 'Average_Drinking', 'Current_Drinker', 'Been_Arrested', 'Importance_Friends_Family', 'Importance_Religion', 'Importance_Alcoholic', 'Age_Started', 'Religios_Life']\n",
    "    cleaned_N12.insert(loc=0, column='Dataset', value='N12')\n",
    "    cleaned_N12.loc[:,'State'] = cleaned_N12['State'].map(lambda x:state_dict_N12[x])\n",
    "    cleaned_N12.loc[:,'Gender'] = cleaned_N12['Gender'].map(lambda x:'M' if x == 1 else 'F')\n",
    "    cleaned_N12.loc[:,'Ethnicity'] = cleaned_N12['Ethnicity'].map(lambda x: ethnicity_dict[x] \n",
    "                                                                  if x in ethnicity_dict.keys() else 'Unknown')\n",
    "    cleaned_N12.loc[:,'Age'] = cleaned_N12['Age'].map(lambda x:age_dict[x] if x in age_dict.keys() else 'Unknown')\n",
    "    cleaned_N12.loc[:,'Work_Situation'] = cleaned_N12['Work_Situation'].map(lambda x:work_dict[x]\n",
    "                                                                            if x in work_dict.keys() else 'Unknown')\n",
    "    return cleaned_N12\n",
    "\n",
    "def clean_N11(N11):\n",
    "    state_dict_N11 = {-8: 'Unknown', 1: 'Alabama', 2: 'Alaska', 3:'American Somoa', 4:'Arizona', 5:'Arkansas', 6:'California', 7:'Colorado', 8:'Connecticut', 9:'Deleware', 10:'District of Columbia', 11:'Florida', 12:'Georgia', 13:'Guam', 14:'Hawaii', 15:'Idaho', 16:'Illinois', 17:'Indiana', 18:'Iowa', 19:'Kansas', 20:'Kentucky', 21:'Louisiana', 22:'Maine', 23:'Maryland', 24:'Massachusetts', 25:'Michigan', 26:'Minnesota', 27:'Mississippi', 28:'Missouri', 29:'Montana', 30:'Nebraska', 31:'Nevada', 32:'New Hampshire', 33:'New Jersey', 34:'New Mexico', 35:'New York', 36:'North Carolina', 37:'North Dakota', 38:'Northern Mariana Islands', 39:'Ohio', 40:'Oklahoma', 41:'Oregon', 42:'Pennsylvania', 43:'Peurto Rico', 44:'Rhode Island', 45:'South Carolina', 46:'South Dakota', 47:'Tennessee', 48:'Texas', 49:'Utah', 50:'Vermont', 51:'Virgin Islands', 52:'Virginia', 53:'Washington', 54:'West Virginia', 55:'Wisconsin', 56:'Wyoming', 95:'Unknown', 97:'Unknown', 99:'Unknown'}\n",
    "    cleaned_N11 = N11[['qa1', 'age1', 'mqa2', 'qa4', 'qa12', 'qa17', 'qa18', 'qb1', 'qb2', 'qb3', 'qb4', 'qb5', 'qn1', 'qi3', 'qi5', 'qi6', 'qb31', 'qa15']]\n",
    "    cleaned_N11.columns = ['Gender', 'Age', 'State', 'Ethnicity', 'Education', 'Work_Situation', 'Household_Income', 'Wine_Frequency', 'Beer_Frequency', 'Liquor_Frequency', 'Average_Drinking', 'Current_Drinker', 'Been_Arrested', 'Importance_Friends_Family', 'Importance_Religion', 'Importance_Alcoholic', 'Age_Started', 'Religios_Life']\n",
    "    cleaned_N11.insert(loc=0, column='Dataset', value='N11')\n",
    "    cleaned_N11.loc[:,'State'] = cleaned_N11['State'].map(lambda x:state_dict_N11[x] \n",
    "                                                          if x in state_dict_N11.keys() else 'Unknown')\n",
    "    cleaned_N11.loc[:,'Gender'] = cleaned_N11['Gender'].map(lambda x:'M' if x == 1 else 'F')\n",
    "    cleaned_N11.loc[:,'Ethnicity'] = cleaned_N11['Ethnicity'].map(lambda x: ethnicity_dict[x] \n",
    "                                                                  if x in ethnicity_dict.keys() else 'Unknown')\n",
    "    cleaned_N11.loc[:,'Age'] = cleaned_N11['Age'].map(lambda x: age_dict[x] if x in age_dict.keys() else 'Unknown')\n",
    "    cleaned_N11.loc[:,'Work_Situation'] = cleaned_N11['Work_Situation'].map(lambda x:work_dict[x] \n",
    "                                                                            if x in work_dict.keys() else 'Unknown')\n",
    "    return cleaned_N11\n",
    "\n",
    "def clean_N10(N10):\n",
    "    state_dict_N10 = {-8: 'Unknown', 1: 'Alabama', 2: 'Alaska', 4:'Arizona', 5:'Arkansas', 6:'California', 8:'Colorado', 9:'Connecticut', 10:'Deleware', 11:'District of Columbia', 12:'Florida', 13:'Georgia', 15:'Hawaii', 16:'Idaho', 17:'Illinois', 18:'Indiana', 19:'Iowa', 20:'Kansas', 21:'Kentucky', 22:'Louisiana', 23:'Maine', 24:'Maryland', 25:'Massachusetts', 26:'Michigan', 27:'Minnesota', 28:'Mississippi', 29:'Missouri', 30:'Montana', 31:'Nebraska', 32:'Nevada', 33:'New Hampshire', 34:'New Jersey', 35:'New Mexico', 36:'New York', 37:'North Carolina', 38:'North Dakota', 39:'Ohio', 40:'Oklahoma', 41:'Oregon', 42:'Pennsylvania', 44:'Rhode Island', 45:'South Carolina', 46:'South Dakota', 47:'Tennessee', 48:'Texas', 49:'Utah', 50:'Vermont', 51:'Virginia', 53:'Washington', 54:'West Virginia', 55:'Wisconsin', 56:'Wyoming', 99:'Unknown'}\n",
    "    cleaned_N10 = N10[['a1', 'cage', 'a2a', 'a4', 'a12', 'a17', 'a18', 'b1', 'b2', 'b3', 'b4', 'b5', 'n1', 'i3', 'i5', 'i6', 'b31', 'a15']]\n",
    "    cleaned_N10.columns = ['Gender', 'Age', 'State', 'Ethnicity', 'Education', 'Work_Situation', 'Household_Income', 'Wine_Frequency', 'Beer_Frequency', 'Liquor_Frequency', 'Average_Drinking', 'Current_Drinker', 'Been_Arrested', 'Importance_Friends_Family', 'Importance_Religion', 'Importance_Alcoholic', 'Age_Started', 'Religios_Life']\n",
    "    cleaned_N10.insert(loc=0, column='Dataset', value='N10')\n",
    "    cleaned_N10.loc[:,'State'] = cleaned_N10['State'].map(lambda x:state_dict_N10[x] \n",
    "                                                          if x in state_dict_N10.keys() else 'Unknown')\n",
    "    cleaned_N10.loc[:,'Gender'] = cleaned_N10['Gender'].map(lambda x:'M' if x == 1 else 'F')\n",
    "    cleaned_N10.loc[:,'Ethnicity'] = cleaned_N10['Ethnicity'].map(lambda x: ethnicity_dict[x] \n",
    "                                                                  if x in ethnicity_dict.keys() else 'Unknown')\n",
    "    cleaned_N10.loc[:,'Age'] = cleaned_N10['Age'].map(lambda x: 'Unknown' if x>90 else x)\n",
    "    cleaned_N10.loc[:,'Work_Situation'] = cleaned_N10['Work_Situation'].map(lambda x:work_dict[x]\n",
    "                                                                            if x in work_dict.keys() else 'Unknown')\n",
    "    return cleaned_N10\n",
    "\n",
    "def clean_N9(N9):\n",
    "    state_dict_N9 = {-8: 'Unknown', 1: 'Alabama', 2: 'Alaska', 4:'Arizona', 5:'Arkansas', 6:'California', 8:'Colorado', 9:'Connecticut', 10:'Deleware', 11:'District of Columbia', 12:'Florida', 13:'Georgia', 15:'Hawaii', 16:'Idaho', 17:'Illinois', 18:'Indiana', 19:'Iowa', 20:'Kansas', 21:'Kentucky', 22:'Louisiana', 23:'Maine', 24:'Maryland', 25:'Massachusetts', 26:'Michigan', 27:'Minnesota', 28:'Mississippi', 29:'Missouri', 30:'Montana', 31:'Nebraska', 32:'Nevada', 33:'New Hampshire', 34:'New Jersey', 35:'New Mexico', 36:'New York', 37:'North Carolina', 38:'North Dakota', 39:'Ohio', 40:'Oklahoma', 41:'Oregon', 42:'Pennsylvania', 44:'Rhode Island', 45:'South Carolina', 46:'South Dakota', 47:'Tennessee', 48:'Texas', 49:'Utah', 50:'Vermont', 51:'Virginia', 53:'Washington', 54:'West Virginia', 55:'Wisconsin', 56:'Wyoming', 99:'Unknown'}\n",
    "    cleaned_N9 = N9[['q1', 'q3', 'q6', 'q9', 'q18', 'q23', 'q27', 'q35a', 'q35b', 'q35c', 'q35d', 'la', 'q222', 'q167c', 'q167e', 'q167c', 'q55', 'q22']]\n",
    "    cleaned_N9.columns = ['Gender', 'Age', 'State', 'Ethnicity', 'Education', 'Work_Situation', 'Household_Income', 'Wine_Frequency', 'Beer_Frequency', 'Liquor_Frequency', 'Average_Drinking', 'Current_Drinker', 'Been_Arrested', 'Importance_Friends_Family', 'Importance_Religion', 'Importance_Alcoholic', 'Age_Started', 'Religios_Life']\n",
    "    cleaned_N9.insert(loc=0, column='Dataset', value='N9')\n",
    "    cleaned_N9.loc[:,'State'] = cleaned_N9['State'].map(lambda x:state_dict_N9[x] \n",
    "                                                        if x in state_dict_N9.keys() else 'Unknown')\n",
    "    cleaned_N9.loc[:,'Gender'] = cleaned_N9['Gender'].map(lambda x:'M' if x == 1 else 'F')\n",
    "    cleaned_N9.loc[:,'Ethnicity'] = cleaned_N9['Ethnicity'].map(lambda x: ethnicity_dict[x] \n",
    "                                                                if x in ethnicity_dict.keys() else 'Unknown')\n",
    "    cleaned_N9.loc[:,'Age'] = cleaned_N9['Age'].map(lambda x: 'Unknown' if x>90 else x)\n",
    "    cleaned_N9.loc[:,'Work_Situation'] = cleaned_N9['Work_Situation'].map(lambda x:work_dict[x] \n",
    "                                                                          if x in work_dict.keys() else 'Unknown')\n",
    "    return cleaned_N9\n",
    "\n",
    "def clean_N8(N8):\n",
    "    state_dict_N8 = {-8: 'Unknown', 1: 'Alabama', 2: 'Alaska', 3:'Arizona', 4:'Arkansas', 5:'California', 6:'Colorado', 7:'Connecticut', 8:'Deleware', 9:'District of Columbia', 10:'Florida', 11:'Georgia', 12:'Hawaii', 13:'Idaho', 14:'Illinois', 15:'Indiana', 16:'Iowa', 17:'Kansas', 18:'Kentucky', 19:'Louisiana', 20:'Maine', 21:'Maryland', 22:'Massachusetts', 23:'Michigan', 24:'Minnesota', 25:'Mississippi', 26:'Missouri', 27:'Montana', 28:'Nebraska', 29:'Nevada', 30:'New Hampshire', 31:'New Jersey', 32:'New Mexico', 33:'New York', 34:'North Carolina', 35:'North Dakota', 36:'Ohio', 37:'Oklahoma', 38:'Oregon', 39:'Pennsylvania', 40:'Rhode Island', 41:'South Carolina', 42:'South Dakota', 43:'Tennessee', 44:'Texas', 45:'Utah', 46:'Vermont', 47:'Virginia', 48:'Washington', 49:'West Virginia', 51:'Wisconsin', 50:'Wyoming', 99:'Unknown'}\n",
    "    cleaned_N8 = N8[['n8m135', 'n8m140', 'n8m152', 'n8m149', 'n8m158', 'n8m163', 'n8m171', 'n8m207', 'n8m209', 'n8m211', 'n8m213', 'n8m133', 'n8m770', 'n8m460', 'n8m462', 'n8m463', 'n8m162']]\n",
    "    cleaned_N8.columns = ['Gender', 'Age', 'State', 'Ethnicity', 'Education', 'Work_Situation', 'Household_Income', 'Wine_Frequency', 'Beer_Frequency', 'Liquor_Frequency', 'Average_Drinking', 'Current_Drinker', 'Been_Arrested', 'Importance_Friends_Family', 'Importance_Religion', 'Importance_Alcoholic', 'Religios_Life']\n",
    "    cleaned_N8.insert(loc=0, column='Dataset', value='N8')\n",
    "    cleaned_N8.loc[:,'State'] = cleaned_N8['State'].map(lambda x:state_dict_N8[x] \n",
    "                                                        if x in state_dict_N8.keys() else 'Unknown')\n",
    "    cleaned_N8.loc[:,'Gender'] = cleaned_N8['Gender'].map(lambda x:'M' if x == 1 else 'F')\n",
    "    cleaned_N8.loc[:,'Ethnicity'] = cleaned_N8['Ethnicity'].map(lambda x: ethnicity_dict[x] \n",
    "                                                                if x in ethnicity_dict.keys() else 'Unknown')\n",
    "    cleaned_N8.loc[:,'Age'] = cleaned_N8['Age'].map(lambda x: int(np.random.normal(80, 2.5, 1)) \n",
    "                                                    if 90-x > 74 else 90-x if x!=99 else 'Unknown')\n",
    "    cleaned_N8.loc[:,'Work_Situation'] = cleaned_N8['Work_Situation'].map(lambda x:work_dict[x] \n",
    "                                                                          if x in work_dict.keys() else 'Unknown')\n",
    "    return cleaned_N8"
   ]
  },
  {
   "cell_type": "code",
   "execution_count": 5,
   "metadata": {},
   "outputs": [
    {
     "name": "stderr",
     "output_type": "stream",
     "text": [
      "/media/illuminator/Main/anaconda3/lib/python3.7/site-packages/pandas/core/indexing.py:494: SettingWithCopyWarning: \n",
      "A value is trying to be set on a copy of a slice from a DataFrame.\n",
      "Try using .loc[row_indexer,col_indexer] = value instead\n",
      "\n",
      "See the caveats in the documentation: http://pandas.pydata.org/pandas-docs/stable/user_guide/indexing.html#returning-a-view-versus-a-copy\n",
      "  self.obj[item] = s\n"
     ]
    }
   ],
   "source": [
    "#call the clean functions and create a dataframe from each \n",
    "cleaned_N8 = clean_N8(N8)\n",
    "cleaned_N9 = clean_N9(N9)\n",
    "cleaned_N10 = clean_N10(N10)\n",
    "cleaned_N11 = clean_N11(N11)\n",
    "cleaned_N12 = clean_N12(N12)   "
   ]
  },
  {
   "cell_type": "code",
   "execution_count": 6,
   "metadata": {},
   "outputs": [
    {
     "name": "stderr",
     "output_type": "stream",
     "text": [
      "/media/illuminator/Main/anaconda3/lib/python3.7/site-packages/ipykernel_launcher.py:3: FutureWarning: Sorting because non-concatenation axis is not aligned. A future version\n",
      "of pandas will change to not sort by default.\n",
      "\n",
      "To accept the future behavior, pass 'sort=False'.\n",
      "\n",
      "To retain the current behavior and silence the warning, pass 'sort=True'.\n",
      "\n",
      "  This is separate from the ipykernel package so we can avoid doing imports until\n"
     ]
    }
   ],
   "source": [
    "#Create a final dataframe by concatenating all of the cleaned dataframes\n",
    "frames = [cleaned_N8, cleaned_N9, cleaned_N10, cleaned_N11, cleaned_N12]\n",
    "final_df = pd.concat(frames, ignore_index=True)"
   ]
  },
  {
   "cell_type": "code",
   "execution_count": 7,
   "metadata": {},
   "outputs": [],
   "source": [
    "############## NEEDS WORK ###############\n",
    "\n",
    "\n",
    "# Create features to flag imputed data before imputing \n",
    "\n",
    "final_df['is_null_Age_Started'] = final_df.Age_Started.isnull().astype(int)\n",
    "#final_df['is_null_'] = final_df.Age_Started.isnull().astype(int)\n",
    "\n",
    "#final_df['is_numm_Importance_Alcoholic'] = final_df.Importance_Alcoholic\n"
   ]
  },
  {
   "cell_type": "code",
   "execution_count": 10,
   "metadata": {},
   "outputs": [],
   "source": [
    "def impute_data(final_df):\n",
    "\n",
    "        # Impute Been_Arrested values based on probability\n",
    "        final_df['Been_Arrested'] = final_df['Been_Arrested'].map(lambda x: x \n",
    "                                                                  if x > 0 and x < 3 \n",
    "                                                                  else np.random.choice(([1,2]), p=[0.1, .9])) \n",
    "\n",
    "        # Impute Age_Started values from normal distribution then cast to integer\n",
    "        final_df['Age_Started'] = final_df['Age_Started'].map(lambda x: x \n",
    "                                                              if x>5 and x<90 \n",
    "                                                              else int(np.random.normal(20, 2.5, 1)))\n",
    "\n",
    "        # Impute income values with the mode for the few unknown values\n",
    "        final_df['Household_Income'] = final_df['Household_Income'].map(lambda x: 7 \n",
    "                                                                        if x > 12 else x)\n",
    "\n",
    "        # Impute income values with the mode for the few unknown values\n",
    "        final_df['Education'] = final_df['Education'].map(lambda x: 12 \n",
    "                                                          if x > 30 else x)\n",
    "\n",
    "        # Impute Age values which are unknown with normal distribution\n",
    "        final_df['Age'] = final_df['Age'].map(lambda x: int(np.random.normal(48, 17, 1)) \n",
    "                                              if x == 'Unknown' else x)\n",
    "        return final_df"
   ]
  },
  {
   "cell_type": "code",
   "execution_count": 17,
   "metadata": {},
   "outputs": [],
   "source": [
    "complete_df = impute_data(final_df)"
   ]
  },
  {
   "cell_type": "code",
   "execution_count": 25,
   "metadata": {},
   "outputs": [],
   "source": [
    "complete_df = complete_df.drop(columns=['Dataset', 'Current_Drinker'])"
   ]
  },
  {
   "cell_type": "code",
   "execution_count": 20,
   "metadata": {},
   "outputs": [],
   "source": [
    "# Dictionaies for assigning numeric values for clustering\n",
    "\n",
    "ethnicity_dict = {'Asian':1, 'Black':2, 'Black/Hispanic':3, 'White':4, 'White/Hispanic':5, \n",
    "                  'American Indain':6, 'Pacific Islander':7, 'Mixed':8, 'Mixed':9, 'Native American':10, \n",
    "                  'Hispanic':11, 'Unknown': 12}\n",
    "work_dict = {'Full Time':1, 'Part Time':2, 'Temporary Leave':3, 'Unemployed':4, 'Unemployed':5, 'Student':6, \n",
    "             'Retired':7, 'Homemaker':8, 'Disabled':9, 'Never Worked':10, 'Self Employed':11, 'Volunteer Work':12, 'Unknown': 13}\n",
    "\n",
    "state_dict = {'Alabama':1, 'Alaska':2, 'American Somoa':3, 'Arizona':4, 'Arkansas':5,'California':6,'Colorado':7,\n",
    "              'Connecticut':8,'Deleware':9, 'District of Columbia':10, 'Florida':11, 'Georgia':12, 'Guam':13, \n",
    "              'Hawaii':14, 'Idaho':15, 'Illinois':16, 'Indiana':17, 'Iowa':18, 'Kansas':19, 'Kentucky':20, \n",
    "              'Louisiana':21, 'Maine':67,'Maryland':22, 'Massachusetts':23, 'Michigan':24, 'Minnesota':25, \n",
    "              'Mississippi':26, 'Missouri':27, 'Montana':28, 'Nebraska':29, 'Nevada':30, 'New Hampshire':31,\n",
    "              'New Jersey':32, 'New Mexico':33,'New York':34, 'North Carolina':35, 'North Dakota':36, \n",
    "              'Northern Mariana Islands':37, 'Ohio':38,'Oklahoma':39,'Oregon':40, 'Pennsylvania':51, \n",
    "              'Peurto Rico':52,'Rhode Island':53,'South Carolina':54,'South Dakota':55, 'Tennessee':56,\n",
    "              'Texas':57,'Utah':58, 'Vermont':59, 'Virginia':60, 'Virgin Islands':61, 'Washington':62,\n",
    "              'West Virginia':63, 'Wisconsin':64, 'Wyoming':65, 'Unknown':66}\n",
    "\n",
    "gender_dict = {'F':0, 'M':1}"
   ]
  },
  {
   "cell_type": "code",
   "execution_count": 32,
   "metadata": {},
   "outputs": [],
   "source": [
    "def make_clustering_df(col_name):\n",
    "    \n",
    "    cluster_df = complete_df[complete_df[col_name].between(1,4, inclusive=True)] # Only include rows with values 1-4\n",
    "    test_df = cluster_df.drop(columns=col_name) # Drop label column for clustering\n",
    "    \n",
    "    #Convert all strings to numeric values for clustering\n",
    "    test_df['Ethnicity'] = test_df['Ethnicity'].map(lambda x: ethnicity_dict[x])\n",
    "    test_df['Work_Situation'] = test_df['Work_Situation'].map(lambda x: work_dict[x])\n",
    "    test_df['Gender'] = test_df['Gender'].map(lambda x: gender_dict[x])\n",
    "    test_df['State'] = test_df['State'].map(lambda x: state_dict[x])\n",
    "    \n",
    "    X_train, X_test, y_train, y_test = train_test_split(test_df, cluster_df[col_name], test_size=0.33, random_state=42)\n",
    "    \n",
    "    \n",
    "    clf = RandomForestClassifier(max_depth=6, min_samples_split=5, n_jobs=-1)\n",
    "    clf.fit(X_train, y_train)\n",
    "    predicted = clf.predict(X_test)\n",
    "    \n",
    "    #clustering = KMeans(n_clusters=4).fit(test_df) \n",
    "    #clusters = clustering.labels_\n",
    "    \n",
    "    result_df = pd.concat([y_test, pd.DataFrame(predicted)], axis=1)\n",
    "    print(result_df[col_name].corr(result_df[0]))\n",
    "                           "
   ]
  },
  {
   "cell_type": "markdown",
   "metadata": {},
   "source": [
    "AgglomerativeClustering"
   ]
  },
  {
   "cell_type": "code",
   "execution_count": null,
   "metadata": {},
   "outputs": [],
   "source": [
    "make_clustering_df('Importance_Religion')"
   ]
  },
  {
   "cell_type": "code",
   "execution_count": null,
   "metadata": {},
   "outputs": [],
   "source": [
    "make_clustering_df('Importance_Alcoholic')"
   ]
  },
  {
   "cell_type": "code",
   "execution_count": null,
   "metadata": {},
   "outputs": [],
   "source": [
    "make_clustering_df('Importance_Friends_Family')"
   ]
  },
  {
   "cell_type": "code",
   "execution_count": null,
   "metadata": {},
   "outputs": [],
   "source": []
  },
  {
   "cell_type": "markdown",
   "metadata": {},
   "source": [
    "RandomForestClassifier"
   ]
  },
  {
   "cell_type": "code",
   "execution_count": 35,
   "metadata": {},
   "outputs": [
    {
     "name": "stdout",
     "output_type": "stream",
     "text": [
      "0.007598121393993749\n",
      "0.024367752468911374\n",
      "-0.04251979079332229\n"
     ]
    }
   ],
   "source": [
    "make_clustering_df('Importance_Religion')\n",
    "make_clustering_df('Importance_Alcoholic')\n",
    "make_clustering_df('Importance_Friends_Family')"
   ]
  },
  {
   "cell_type": "code",
   "execution_count": null,
   "metadata": {},
   "outputs": [],
   "source": []
  },
  {
   "cell_type": "code",
   "execution_count": null,
   "metadata": {},
   "outputs": [],
   "source": [
    "new_df = complete_df[complete_df['Importance_Religion'].between(1,4, inclusive=True)]"
   ]
  },
  {
   "cell_type": "code",
   "execution_count": null,
   "metadata": {},
   "outputs": [],
   "source": []
  },
  {
   "cell_type": "code",
   "execution_count": 13,
   "metadata": {},
   "outputs": [],
   "source": []
  },
  {
   "cell_type": "code",
   "execution_count": null,
   "metadata": {},
   "outputs": [],
   "source": []
  },
  {
   "cell_type": "code",
   "execution_count": 16,
   "metadata": {},
   "outputs": [
    {
     "data": {
      "text/plain": [
       "(0, 15)"
      ]
     },
     "execution_count": 16,
     "metadata": {},
     "output_type": "execute_result"
    },
    {
     "data": {
      "image/png": "[encoded data removed]",
      "text/plain": [
       "<Figure size 432x288 with 1 Axes>"
      ]
     },
     "metadata": {
      "needs_background": "light"
     },
     "output_type": "display_data"
    }
   ],
   "source": [
    "plt.plot(final_df.groupby('Household_Income')['Household_Income'].count())\n",
    "plt.xlim(0,15)"
   ]
  },
  {
   "cell_type": "code",
   "execution_count": null,
   "metadata": {},
   "outputs": [],
   "source": [
    "temp_age.mean()"
   ]
  },
  {
   "cell_type": "code",
   "execution_count": null,
   "metadata": {},
   "outputs": [],
   "source": [
    "\n",
    "final_df.groupby('Education')['Education'].count().plot()\n",
    "plt.xlim(0, 60)\n",
    "plt.ylim(0, 5000)"
   ]
  },
  {
   "cell_type": "code",
   "execution_count": null,
   "metadata": {},
   "outputs": [],
   "source": []
  }
 ],
 "metadata": {
  "kernelspec": {
   "display_name": "Python 3",
   "language": "python",
   "name": "python3"
  },
  "language_info": {
   "codemirror_mode": {
    "name": "ipython",
    "version": 3
   },
   "file_extension": ".py",
   "mimetype": "text/x-python",
   "name": "python",
   "nbconvert_exporter": "python",
   "pygments_lexer": "ipython3",
   "version": "3.7.4"
  }
 },
 "nbformat": 4,
 "nbformat_minor": 2
}
